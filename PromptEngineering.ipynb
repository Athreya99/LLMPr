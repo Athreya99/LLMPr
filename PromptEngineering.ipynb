{
 "cells": [
  {
   "cell_type": "code",
   "execution_count": 6,
   "metadata": {},
   "outputs": [],
   "source": [
    "import os\n",
    "openai_key=''\n",
    "os.environ[\"OPENAI_API_KEY\"] = openai_key\n"
   ]
  },
  {
   "cell_type": "code",
   "execution_count": 7,
   "metadata": {},
   "outputs": [
    {
     "data": {
      "text/plain": [
       "' I want you to act as a software engineer expert and explain basics of data structures .'"
      ]
     },
     "execution_count": 7,
     "metadata": {},
     "output_type": "execute_result"
    }
   ],
   "source": [
    "from langchain import PromptTemplate\n",
    "\n",
    "demo_template=''' I want you to act as a software engineer expert and explain basics of {software_concept} .'''\n",
    "\n",
    "prompt=PromptTemplate(\n",
    "    input_variables=['software_concept'],\n",
    "    template=demo_template,\n",
    "\n",
    ")\n",
    "\n",
    "# prompt.format(software_concept='data structures')"
   ]
  },
  {
   "cell_type": "code",
   "execution_count": 10,
   "metadata": {},
   "outputs": [],
   "source": [
    "from langchain.llms import OpenAI\n",
    "from langchain.chains import LLMChain\n",
    "\n",
    "llm=OpenAI(temperature=0.7)\n",
    "chain1=LLMChain(llm=llm,prompt=prompt)\n"
   ]
  },
  {
   "cell_type": "code",
   "execution_count": 13,
   "metadata": {},
   "outputs": [
    {
     "data": {
      "text/plain": [
       "\"\\nSure, let's dive into the basics of Object-Oriented Programming (OOPs).\\n\\nObject-Oriented Programming is a programming paradigm that focuses on using objects to store data and perform actions. It is based on the concept of real-world objects and their properties and behaviors. In OOP, an object is an instance of a class, which is like a blueprint or template for creating objects.\\n\\nThere are four main principles of OOP that help in creating robust and maintainable code: encapsulation, abstraction, inheritance, and polymorphism. Let's take a closer look at each of these principles.\\n\\n1. Encapsulation:\\nEncapsulation is the process of bundling data and functions (or methods) together within an object, and restricting access to the inner workings of the object from the outside. This helps in creating more secure and organized code by hiding implementation details and only exposing necessary information to the user. It also allows for better code maintenance and scalability, as the inner workings of an object can be changed without affecting the rest of the codebase.\\n\\n2. Abstraction:\\nAbstraction is the process of simplifying complex systems by hiding unnecessary details and only exposing essential features. In OOP, abstraction is achieved by creating abstract classes or interfaces that define a set of methods\""
      ]
     },
     "execution_count": 13,
     "metadata": {},
     "output_type": "execute_result"
    }
   ],
   "source": [
    "chain1.run('oops')"
   ]
  },
  {
   "cell_type": "code",
   "execution_count": 14,
   "metadata": {},
   "outputs": [
    {
     "data": {
      "text/plain": [
       "\" Translate the following sentence 'How are you' into Hindi in an easy way.\""
      ]
     },
     "execution_count": 14,
     "metadata": {},
     "output_type": "execute_result"
    }
   ],
   "source": [
    "#Language Translation\n",
    "\n",
    "from langchain import PromptTemplate\n",
    "\n",
    "template=''' Translate the following sentence '{sentence}' into {target_language} in an easy way.'''\n",
    "\n",
    "language_prompt=PromptTemplate(\n",
    "    input_variables=['sentence','target_language'],\n",
    "    template= template,\n",
    "\n",
    ")\n",
    "# language_prompt.format(sentence=\"How are you\",target_language=\"Hindi\")\n"
   ]
  },
  {
   "cell_type": "code",
   "execution_count": 15,
   "metadata": {},
   "outputs": [
    {
     "data": {
      "text/plain": [
       "{'sentence': 'How are you',\n",
       " 'target_language': 'Hindi',\n",
       " 'text': '\\n\\nआप कैसे हो? (āp kaise ho?)'}"
      ]
     },
     "execution_count": 15,
     "metadata": {},
     "output_type": "execute_result"
    }
   ],
   "source": [
    "chain2=LLMChain(llm=llm,prompt=language_prompt)\n",
    "chain2({'sentence':\"How are you\",'target_language':'Hindi'})"
   ]
  },
  {
   "cell_type": "code",
   "execution_count": 22,
   "metadata": {},
   "outputs": [],
   "source": [
    "from langchain import PromptTemplate,FewShotPromptTemplate\n",
    "\n",
    "examples=[\n",
    "    {\"word\":\"happy\",\"antonym\":\"sad\"},\n",
    "    {\"word\":\"tall\",\"antonym\":\"short\"}\n",
    "]\n",
    "\n",
    "example_template=\"\"\" Word:{word} \n",
    "Antonym:{antonym}\"\"\"\n",
    "\n",
    "\n",
    "example_prompt=PromptTemplate(\n",
    "    input_variables=['word','antonym'],\n",
    "    template=example_template,\n",
    ")\n"
   ]
  },
  {
   "cell_type": "code",
   "execution_count": 23,
   "metadata": {},
   "outputs": [],
   "source": [
    "few_shot_prompt=FewShotPromptTemplate(\n",
    "    examples=examples,\n",
    "    example_prompt=example_prompt,\n",
    "    prefix=\"Give the antonym of every input\\n\",\n",
    "    suffix=\"Word:{input}\\n Antonym:\",\n",
    "    input_variables=[\"input\"],\n",
    "    example_separator=\"\\n\"\n",
    ")"
   ]
  },
  {
   "cell_type": "code",
   "execution_count": 24,
   "metadata": {},
   "outputs": [
    {
     "name": "stdout",
     "output_type": "stream",
     "text": [
      "Give the antonym of every input\n",
      "\n",
      " Word:happy \n",
      "Antonym:sad\n",
      " Word:tall \n",
      "Antonym:short\n",
      "Word:Big\n",
      " Antonym:\n"
     ]
    }
   ],
   "source": [
    "# print(few_shot_prompt.format(input='Big'))"
   ]
  },
  {
   "cell_type": "code",
   "execution_count": 25,
   "metadata": {},
   "outputs": [
    {
     "data": {
      "text/plain": [
       "{'input': 'Big', 'text': 'small'}"
      ]
     },
     "execution_count": 25,
     "metadata": {},
     "output_type": "execute_result"
    }
   ],
   "source": [
    "chain3=LLMChain(llm=llm,prompt=few_shot_prompt)\n",
    "chain3({'input':\"Big\"})"
   ]
  },
  {
   "cell_type": "code",
   "execution_count": null,
   "metadata": {},
   "outputs": [],
   "source": []
  }
 ],
 "metadata": {
  "kernelspec": {
   "display_name": "base",
   "language": "python",
   "name": "python3"
  },
  "language_info": {
   "codemirror_mode": {
    "name": "ipython",
    "version": 3
   },
   "file_extension": ".py",
   "mimetype": "text/x-python",
   "name": "python",
   "nbconvert_exporter": "python",
   "pygments_lexer": "ipython3",
   "version": "3.11.5"
  }
 },
 "nbformat": 4,
 "nbformat_minor": 2
}
